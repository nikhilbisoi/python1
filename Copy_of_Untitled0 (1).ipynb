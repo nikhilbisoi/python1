{
  "nbformat": 4,
  "nbformat_minor": 0,
  "metadata": {
    "colab": {
      "name": "Copy of Untitled0.ipynb",
      "provenance": []
    },
    "kernelspec": {
      "name": "python3",
      "display_name": "Python 3"
    },
    "language_info": {
      "name": "python"
    }
  },
  "cells": [
    {
      "cell_type": "code",
      "metadata": {
        "colab": {
          "base_uri": "https://localhost:8080/"
        },
        "id": "KHzO_ErUyo0I",
        "outputId": "d8dc29e1-b3e5-4934-d610-ba386c990dbc"
      },
      "source": [
        "# Python3 program to add two numbers\n",
        "  \n",
        "num1 = 15\n",
        "num2 = 12\n",
        "  \n",
        "# Adding two nos\n",
        "sum = num1 + num2\n",
        "  \n",
        "# printing values\n",
        "print(\"Sum of {0} and {1} is {2}\" .format(num1, num2, sum))\n"
      ],
      "execution_count": null,
      "outputs": [
        {
          "output_type": "stream",
          "text": [
            "Sum of 15 and 12 is 27\n"
          ],
          "name": "stdout"
        }
      ]
    },
    {
      "cell_type": "code",
      "metadata": {
        "colab": {
          "base_uri": "https://localhost:8080/"
        },
        "id": "pdO3gYcF0GVV",
        "outputId": "16290aa6-3196-4871-b45d-1c32716e9e59"
      },
      "source": [
        "# Python3 program to add two numbers\n",
        "  \n",
        "number1 = input(\"First number: \")\n",
        "number2 = input(\"\\nSecond number: \")\n",
        "  \n",
        "# Adding two numbers\n",
        "# User might also enter float numbers\n",
        "sum = float(number1) + float(number2)\n",
        "  \n",
        "# Display the sum\n",
        "# will print value in float\n",
        "print(\"The sum of {0} and {1} is {2}\" .format(number1, number2, sum))"
      ],
      "execution_count": null,
      "outputs": [
        {
          "output_type": "stream",
          "text": [
            "First number: 12\n",
            "\n",
            "Second number: 3\n",
            "The sum of 12 and 3 is 15.0\n"
          ],
          "name": "stdout"
        }
      ]
    }
  ]
}