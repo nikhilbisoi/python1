{
  "nbformat": 4,
  "nbformat_minor": 0,
  "metadata": {
    "colab": {
      "name": "array",
      "provenance": [],
      "collapsed_sections": []
    },
    "kernelspec": {
      "name": "python3",
      "display_name": "Python 3"
    },
    "language_info": {
      "name": "python"
    }
  },
  "cells": [
    {
      "cell_type": "code",
      "metadata": {
        "colab": {
          "base_uri": "https://localhost:8080/"
        },
        "id": "KDFvnCIJP9L-",
        "outputId": "3f3e0050-67f3-47bc-ec7a-2b3ed60ad968"
      },
      "source": [
        "# Python 3 code to find sum \n",
        "# of elements in given array \n",
        "def _sum(arr): \n",
        "      \n",
        "    # initialize a variable\n",
        "    # to store the sum\n",
        "    # while iterating through\n",
        "    # the array later\n",
        "    sum=0\n",
        "      \n",
        "    # iterate through the array\n",
        "    # and add each element to the sum variable\n",
        "    # one at a time\n",
        "    for i in arr:\n",
        "        sum = sum + i\n",
        "          \n",
        "    return(sum) \n",
        "  \n",
        "# driver function \n",
        "arr=[] \n",
        "# input values to list \n",
        "arr = [12, 3, 4, 15] \n",
        "  \n",
        "# calculating length of array \n",
        "n = len(arr) \n",
        "  \n",
        "ans = _sum(arr) \n",
        "  \n",
        "# display sum \n",
        "print ('Sum of the array is ', ans)"
      ],
      "execution_count": 1,
      "outputs": [
        {
          "output_type": "stream",
          "text": [
            "Sum of the array is  34\n"
          ],
          "name": "stdout"
        }
      ]
    },
    {
      "cell_type": "code",
      "metadata": {
        "colab": {
          "base_uri": "https://localhost:8080/"
        },
        "id": "Xs8marFRQYO0",
        "outputId": "772d3085-0b60-4e98-d85d-1fb6fa8166dc"
      },
      "source": [
        "# Python3 program to find maximum\n",
        "# in arr[] of size n \n",
        "  \n",
        "# python function to find maximum\n",
        "# in arr[] of size n\n",
        "def largest(arr,n):\n",
        "  \n",
        "    # Initialize maximum element\n",
        "    max = arr[0]\n",
        "  \n",
        "    # Traverse array elements from second\n",
        "    # and compare every element with \n",
        "    # current max\n",
        "    for i in range(1, n):\n",
        "        if arr[i] > max:\n",
        "            max = arr[i]\n",
        "    return max\n",
        "  \n",
        "# Driver Code\n",
        "arr = [10, 324, 45, 90, 9808]\n",
        "n = len(arr)\n",
        "Ans = largest(arr,n)\n",
        "print (\"Largest in given array is\",Ans)"
      ],
      "execution_count": 2,
      "outputs": [
        {
          "output_type": "stream",
          "text": [
            "Largest in given array is 9808\n"
          ],
          "name": "stdout"
        }
      ]
    },
    {
      "cell_type": "code",
      "metadata": {
        "colab": {
          "base_uri": "https://localhost:8080/"
        },
        "id": "OiTnX3efQxRO",
        "outputId": "10685831-24ec-41c4-a4b4-75bbb1600d73"
      },
      "source": [
        "# function to rotate array by d elements using temp array\n",
        "def rotateArray(arr, n, d):\n",
        "    temp = []\n",
        "    i = 0\n",
        "    while (i < d):\n",
        "        temp.append(arr[i])\n",
        "        i = i + 1\n",
        "    i = 0\n",
        "    while (d < n):\n",
        "        arr[i] = arr[d]\n",
        "        i = i + 1\n",
        "        d = d + 1\n",
        "    arr[:] = arr[: i] + temp\n",
        "    return arr\n",
        " \n",
        " \n",
        "# Driver function to test above function\n",
        "arr = [1, 2, 3, 4, 5, 6, 7]\n",
        "print(\"Array after left rotation is: \", end=' ')\n",
        "print(rotateArray(arr, len(arr), 2))\n",
        " "
      ],
      "execution_count": 3,
      "outputs": [
        {
          "output_type": "stream",
          "text": [
            "Array after left rotation is:  [3, 4, 5, 6, 7, 1, 2]\n"
          ],
          "name": "stdout"
        }
      ]
    },
    {
      "cell_type": "code",
      "metadata": {
        "colab": {
          "base_uri": "https://localhost:8080/"
        },
        "id": "lkzh3Xe_Q82n",
        "outputId": "22e54ff7-0af4-46ce-eecf-2dc15e1e2c48"
      },
      "source": [
        "# Python program for reversal algorithm of array rotation\n",
        "  \n",
        "# Function to reverse arr[] from index start to end\n",
        "def rverseArray(arr, start, end):\n",
        "    while (start < end):\n",
        "        temp = arr[start]\n",
        "        arr[start] = arr[end]\n",
        "        arr[end] = temp\n",
        "        start += 1\n",
        "        end = end-1\n",
        "  \n",
        "# Function to left rotate arr[] of size n by d\n",
        "def leftRotate(arr, d):\n",
        "    n = len(arr)\n",
        "    rverseArray(arr, 0, d-1)\n",
        "    rverseArray(arr, d, n-1)\n",
        "    rverseArray(arr, 0, n-1)\n",
        "  \n",
        "# Function to print an array\n",
        "def printArray(arr):\n",
        "    for i in range(0, len(arr)):\n",
        "        print (arr[i])\n",
        "  \n",
        "# Driver function to test above functions\n",
        "arr = [1, 2, 3, 4, 5, 6, 7]\n",
        "leftRotate(arr, 2) # Rotate array by 2\n",
        "printArray(arr)"
      ],
      "execution_count": 4,
      "outputs": [
        {
          "output_type": "stream",
          "text": [
            "3\n",
            "4\n",
            "5\n",
            "6\n",
            "7\n",
            "1\n",
            "2\n"
          ],
          "name": "stdout"
        }
      ]
    },
    {
      "cell_type": "code",
      "metadata": {
        "colab": {
          "base_uri": "https://localhost:8080/"
        },
        "id": "5xncu3OaRJmm",
        "outputId": "eb1986bd-7795-4182-a6b0-777bfc5bc892"
      },
      "source": [
        "# Python program to split array and move first\n",
        "# part to end.\n",
        "  \n",
        "def splitArr(arr, n, k): \n",
        "    for i in range(0, k): \n",
        "        x = arr[0]\n",
        "        for j in range(0, n-1):\n",
        "            arr[j] = arr[j + 1]\n",
        "          \n",
        "        arr[n-1] = x\n",
        "          \n",
        "  \n",
        "# main\n",
        "arr = [12, 10, 5, 6, 52, 36]\n",
        "n = len(arr)\n",
        "position = 2\n",
        "  \n",
        "splitArr(arr, n, position)\n",
        "  \n",
        "for i in range(0, n): \n",
        "    print(arr[i], end = ' ')"
      ],
      "execution_count": 5,
      "outputs": [
        {
          "output_type": "stream",
          "text": [
            "5 6 52 36 12 10 "
          ],
          "name": "stdout"
        }
      ]
    },
    {
      "cell_type": "code",
      "metadata": {
        "colab": {
          "base_uri": "https://localhost:8080/"
        },
        "id": "u-X71SVqRT9w",
        "outputId": "1a13f329-4c74-46f6-dd5a-81facf28fb4f"
      },
      "source": [
        "# Python3 program to\n",
        "# find remainder when\n",
        "# all array elements\n",
        "# are multiplied.\n",
        " \n",
        "# Find remainder of arr[0] * arr[1]\n",
        "# * .. * arr[n-1]\n",
        "def findremainder(arr, lens, n):\n",
        "    mul = 1\n",
        " \n",
        "    # find the individual\n",
        "    # remainder and\n",
        "    # multiple with mul.\n",
        "    for i in arr:\n",
        "        mul = mul * (i % n)\n",
        " \n",
        "    return mul % n\n",
        " \n",
        " \n",
        "# Driven code\n",
        "arr = [100, 10, 5, 25, 35, 14]\n",
        "lens = len(arr)\n",
        "n = 11\n",
        " \n",
        "# print the remainder\n",
        "# of after multiple\n",
        "# all the numbers\n",
        "print(findremainder(arr, lens, n))"
      ],
      "execution_count": 6,
      "outputs": [
        {
          "output_type": "stream",
          "text": [
            "9\n"
          ],
          "name": "stdout"
        }
      ]
    },
    {
      "cell_type": "code",
      "metadata": {
        "colab": {
          "base_uri": "https://localhost:8080/"
        },
        "id": "x7Vyao5VRf0c",
        "outputId": "1d9e869d-122b-42e4-f813-eef8317f79ea"
      },
      "source": [
        "# Python3 program to find sum in Nth group\n",
        "  \n",
        "# Check if given array is Monotonic\n",
        "def isMonotonic(A):\n",
        "  \n",
        "    return (all(A[i] <= A[i + 1] for i in range(len(A) - 1)) or\n",
        "            all(A[i] >= A[i + 1] for i in range(len(A) - 1)))\n",
        "  \n",
        "# Driver program\n",
        "A = [6, 5, 4, 4]\n",
        "  \n",
        "# Print required result\n",
        "print(isMonotonic(A))"
      ],
      "execution_count": 7,
      "outputs": [
        {
          "output_type": "stream",
          "text": [
            "True\n"
          ],
          "name": "stdout"
        }
      ]
    }
  ]
}