{
  "nbformat": 4,
  "nbformat_minor": 0,
  "metadata": {
    "colab": {
      "name": "factorial x",
      "provenance": []
    },
    "kernelspec": {
      "name": "python3",
      "display_name": "Python 3"
    },
    "language_info": {
      "name": "python"
    }
  },
  "cells": [
    {
      "cell_type": "code",
      "metadata": {
        "colab": {
          "base_uri": "https://localhost:8080/"
        },
        "id": "cd-RI_uqDoAg",
        "outputId": "a3bfad52-c53f-4152-900f-8023b1fa1a9c"
      },
      "source": [
        "# Python 3 program to find \n",
        "# factorial of given number\n",
        "def factorial(n):\n",
        "    if n < 0:\n",
        "        return 0\n",
        "    elif n == 0 or n == 1:\n",
        "        return 1\n",
        "    else:\n",
        "        fact = 1\n",
        "        while(n > 1):\n",
        "            fact *= n\n",
        "            n -= 1\n",
        "        return fact\n",
        " \n",
        "# Driver Code\n",
        "num = 5;\n",
        "print(\"Factorial of\",num,\"is\",\n",
        "factorial(num))"
      ],
      "execution_count": 2,
      "outputs": [
        {
          "output_type": "stream",
          "text": [
            "Factorial of 5 is 120\n"
          ],
          "name": "stdout"
        }
      ]
    },
    {
      "cell_type": "code",
      "metadata": {
        "colab": {
          "base_uri": "https://localhost:8080/"
        },
        "id": "D2n6ZUSbD1nJ",
        "outputId": "dda622f2-182f-4520-cacf-f53c16852698"
      },
      "source": [
        "#One line Solution \n",
        "# Python 3 program to find\n",
        "# factorial of given number\n",
        " \n",
        "def factorial(n):\n",
        " \n",
        "    # single line to find factorial\n",
        "    return 1 if (n==1 or n==0) else n * factorial(n - 1)\n",
        " \n",
        " \n",
        "# Driver Code\n",
        "num = 5\n",
        "print (\"Factorial of\",num,\"is\",\n",
        "      factorial(num))"
      ],
      "execution_count": 4,
      "outputs": [
        {
          "output_type": "stream",
          "text": [
            "Factorial of 5 is 120\n"
          ],
          "name": "stdout"
        }
      ]
    },
    {
      "cell_type": "code",
      "metadata": {
        "colab": {
          "base_uri": "https://localhost:8080/"
        },
        "id": "K5-29TmsELVw",
        "outputId": "2d2ae3db-bbbc-4dba-90f0-7d8483152099"
      },
      "source": [
        "#By using In-built function:\n",
        "# Python 3 program to find\n",
        "# factorial of given number\n",
        "import math\n",
        " \n",
        "def factorial(n):\n",
        "    return(math.factorial(n))\n",
        " \n",
        " \n",
        "# Driver Code\n",
        "num = 5\n",
        "print(\"Factorial of\", num, \"is\",\n",
        "      factorial(num))"
      ],
      "execution_count": 5,
      "outputs": [
        {
          "output_type": "stream",
          "text": [
            "Factorial of 5 is 120\n"
          ],
          "name": "stdout"
        }
      ]
    }
  ]
}