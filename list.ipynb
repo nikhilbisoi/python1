{
  "nbformat": 4,
  "nbformat_minor": 0,
  "metadata": {
    "colab": {
      "name": "list",
      "provenance": []
    },
    "kernelspec": {
      "name": "python3",
      "display_name": "Python 3"
    },
    "language_info": {
      "name": "python"
    }
  },
  "cells": [
    {
      "cell_type": "code",
      "metadata": {
        "colab": {
          "base_uri": "https://localhost:8080/"
        },
        "id": "AhJxuD19wQ4f",
        "outputId": "8de64d2b-f1a1-4fb5-b128-e96dc0206963"
      },
      "source": [
        "\n",
        "\n",
        "\n",
        "\n",
        "# Python3 program to swap elements\n",
        "# at given positions\n",
        " \n",
        "# Swap function\n",
        "def swapPositions(list, pos1, pos2):\n",
        "     \n",
        "    list[pos1], list[pos2] = list[pos2], list[pos1]\n",
        "    return list\n",
        " \n",
        "# Driver function\n",
        "List = [23, 65, 19, 90]\n",
        "pos1, pos2  = 1, 3\n",
        " \n",
        "print(swapPositions(List, pos1-1, pos2-1))"
      ],
      "execution_count": 1,
      "outputs": [
        {
          "output_type": "stream",
          "text": [
            "[19, 65, 23, 90]\n"
          ],
          "name": "stdout"
        }
      ]
    },
    {
      "cell_type": "code",
      "metadata": {
        "colab": {
          "base_uri": "https://localhost:8080/"
        },
        "id": "eRJfkiq1woUj",
        "outputId": "f2327d62-4d06-4d6c-9005-ebc89e82de4f"
      },
      "source": [
        "# Python code to demonstrate\n",
        "# length of list\n",
        "# using naive method\n",
        "  \n",
        "# Initializing list \n",
        "test_list = [ 1, 4, 5, 7, 8 ]\n",
        "  \n",
        "# Printing test_list\n",
        "print (\"The list is : \" + str(test_list))\n",
        "  \n",
        "# Finding length of list \n",
        "# using loop\n",
        "# Initializing counter\n",
        "counter = 0\n",
        "for i in test_list:\n",
        "      \n",
        "    # incrementing counter\n",
        "    counter = counter + 1\n",
        "  \n",
        "# Printing length of list \n",
        "print (\"Length of list using naive method is : \" + str(counter))"
      ],
      "execution_count": 2,
      "outputs": [
        {
          "output_type": "stream",
          "text": [
            "The list is : [1, 4, 5, 7, 8]\n",
            "Length of list using naive method is : 5\n"
          ],
          "name": "stdout"
        }
      ]
    },
    {
      "cell_type": "code",
      "metadata": {
        "colab": {
          "base_uri": "https://localhost:8080/"
        },
        "id": "ucBN3nZtw6Z_",
        "outputId": "0ca1256c-8b7f-4ee5-ee2e-a3f03d52c490"
      },
      "source": [
        "# Python code to demonstrate\n",
        "# checking of element existence\n",
        "# using loops and in\n",
        " \n",
        "# Initializing list\n",
        "test_list = [ 1, 6, 3, 5, 3, 4 ]\n",
        " \n",
        "print(\"Checking if 4 exists in list ( using loop ) : \")\n",
        " \n",
        "# Checking if 4 exists in list\n",
        "# using loop\n",
        "for i in test_list:\n",
        "    if(i == 4) :\n",
        "        print (\"Element Exists\")\n",
        " \n",
        "print(\"Checking if 4 exists in list ( using in ) : \")\n",
        " \n",
        "# Checking if 4 exists in list\n",
        "# using in\n",
        "if (4 in test_list):\n",
        "    print (\"Element Exists\")"
      ],
      "execution_count": 3,
      "outputs": [
        {
          "output_type": "stream",
          "text": [
            "Checking if 4 exists in list ( using loop ) : \n",
            "Element Exists\n",
            "Checking if 4 exists in list ( using in ) : \n",
            "Element Exists\n"
          ],
          "name": "stdout"
        }
      ]
    },
    {
      "cell_type": "code",
      "metadata": {
        "colab": {
          "base_uri": "https://localhost:8080/"
        },
        "id": "AqpYZ9elxKF0",
        "outputId": "391f8d47-e11c-4574-df0f-4982325b2dd3"
      },
      "source": [
        "# Python program to clear a list\n",
        "# using clear() method \n",
        "  \n",
        "# Creating list\n",
        "GEEK = [6, 0, 4, 1]\n",
        "print('GEEK before clear:', GEEK) \n",
        "  \n",
        "# Clearing list \n",
        "GEEK.clear() \n",
        "print('GEEK after clear:', GEEK)"
      ],
      "execution_count": 4,
      "outputs": [
        {
          "output_type": "stream",
          "text": [
            "GEEK before clear: [6, 0, 4, 1]\n",
            "GEEK after clear: []\n"
          ],
          "name": "stdout"
        }
      ]
    },
    {
      "cell_type": "code",
      "metadata": {
        "colab": {
          "base_uri": "https://localhost:8080/"
        },
        "id": "ecHR6T5txSp2",
        "outputId": "f1dc02d6-4810-4311-b5ff-cf300cc1c364"
      },
      "source": [
        "# Reversing a list using reversed()\n",
        "def Reverse(lst):\n",
        "    return [ele for ele in reversed(lst)]\n",
        "      \n",
        "# Driver Code\n",
        "lst = [10, 11, 12, 13, 14, 15]\n",
        "print(Reverse(lst))"
      ],
      "execution_count": 5,
      "outputs": [
        {
          "output_type": "stream",
          "text": [
            "[15, 14, 13, 12, 11, 10]\n"
          ],
          "name": "stdout"
        }
      ]
    },
    {
      "cell_type": "code",
      "metadata": {
        "colab": {
          "base_uri": "https://localhost:8080/"
        },
        "id": "0kMTCYLUxZga",
        "outputId": "6e07b013-e4f0-4c85-ee2c-58ab63241709"
      },
      "source": [
        "# Python program to find sum of elements in list\n",
        "total = 0\n",
        " \n",
        "# creating a list\n",
        "list1 = [11, 5, 17, 18, 23]\n",
        " \n",
        "# Iterate each element in list\n",
        "# and add them in variable total\n",
        "for ele in range(0, len(list1)):\n",
        "    total = total + list1[ele]\n",
        " \n",
        "# printing total value\n",
        "print(\"Sum of all elements in given list: \", total)"
      ],
      "execution_count": 6,
      "outputs": [
        {
          "output_type": "stream",
          "text": [
            "Sum of all elements in given list:  74\n"
          ],
          "name": "stdout"
        }
      ]
    },
    {
      "cell_type": "code",
      "metadata": {
        "colab": {
          "base_uri": "https://localhost:8080/"
        },
        "id": "j6ocPXDSxg7J",
        "outputId": "148d515b-4b82-4159-aa97-ee69804803d3"
      },
      "source": [
        "# Python program to multiply all values in the\n",
        "# list using traversal\n",
        " \n",
        "def multiplyList(myList) :\n",
        "     \n",
        "    # Multiply elements one by one\n",
        "    result = 1\n",
        "    for x in myList:\n",
        "         result = result * x\n",
        "    return result\n",
        "     \n",
        "# Driver code\n",
        "list1 = [1, 2, 3]\n",
        "list2 = [3, 2, 4]\n",
        "print(multiplyList(list1))\n",
        "print(multiplyList(list2))"
      ],
      "execution_count": 7,
      "outputs": [
        {
          "output_type": "stream",
          "text": [
            "6\n",
            "24\n"
          ],
          "name": "stdout"
        }
      ]
    },
    {
      "cell_type": "code",
      "metadata": {
        "colab": {
          "base_uri": "https://localhost:8080/"
        },
        "id": "2r8btcgAxpQv",
        "outputId": "7478dc07-54ca-446b-dc5b-452624a0c073"
      },
      "source": [
        "# Python program to find smallest\n",
        "# number in a list\n",
        " \n",
        "# list of numbers\n",
        "list1 = [10, 20, 4, 45, 99]\n",
        " \n",
        "# sorting the list\n",
        "list1.sort()\n",
        " \n",
        "# printing the first element\n",
        "print(\"Smallest element is:\", *list1[:1])"
      ],
      "execution_count": 8,
      "outputs": [
        {
          "output_type": "stream",
          "text": [
            "Smallest element is: 4\n"
          ],
          "name": "stdout"
        }
      ]
    },
    {
      "cell_type": "code",
      "metadata": {
        "colab": {
          "base_uri": "https://localhost:8080/"
        },
        "id": "QBlK-nqayr0z",
        "outputId": "0142dbd7-7102-4f7b-ad76-f3f46328afc0"
      },
      "source": [
        "# Python program to find largest\n",
        "# number in a list\n",
        "  \n",
        "# list of numbers\n",
        "list1 = [10, 20, 4, 45, 99]\n",
        "  \n",
        "# sorting the list\n",
        "list1.sort()\n",
        "  \n",
        "# printing the last element\n",
        "print(\"Largest element is:\", list1[-1])"
      ],
      "execution_count": 9,
      "outputs": [
        {
          "output_type": "stream",
          "text": [
            "Largest element is: 99\n"
          ],
          "name": "stdout"
        }
      ]
    },
    {
      "cell_type": "code",
      "metadata": {
        "colab": {
          "base_uri": "https://localhost:8080/"
        },
        "id": "bwaymMRVy47C",
        "outputId": "20f3ff13-e017-4578-d557-c1f95840b03d"
      },
      "source": [
        "# Python program to find second largest\n",
        "# number in a list\n",
        " \n",
        "# list of numbers - length of\n",
        "# list should be at least 2\n",
        "list1 = [10, 20, 4, 45, 99]\n",
        " \n",
        "mx=max(list1[0],list1[1])\n",
        "secondmax=min(list1[0],list1[1])\n",
        "n =len(list1)\n",
        "for i in range(2,n):\n",
        "    if list1[i]>mx:\n",
        "        secondmax=mx\n",
        "        mx=list1[i]\n",
        "    elif list1[i]>secondmax and \\\n",
        "        mx != list1[i]:\n",
        "        secondmax=list1[i]\n",
        " \n",
        "print(\"Second highest number is : \",\\\n",
        "      str(secondmax))"
      ],
      "execution_count": 10,
      "outputs": [
        {
          "output_type": "stream",
          "text": [
            "Second highest number is :  45\n"
          ],
          "name": "stdout"
        }
      ]
    },
    {
      "cell_type": "code",
      "metadata": {
        "colab": {
          "base_uri": "https://localhost:8080/"
        },
        "id": "P358mdFqzBVp",
        "outputId": "f42a335b-04bf-4b4f-c991-b3110da47bd0"
      },
      "source": [
        "# Python program to find N largest\n",
        "# element from given list of integers\n",
        "  \n",
        "# Function returns N largest elements\n",
        "def Nmaxelements(list1, N):\n",
        "    final_list = []\n",
        "  \n",
        "    for i in range(0, N): \n",
        "        max1 = 0\n",
        "          \n",
        "        for j in range(len(list1)):     \n",
        "            if list1[j] > max1:\n",
        "                max1 = list1[j];\n",
        "                  \n",
        "        list1.remove(max1);\n",
        "        final_list.append(max1)\n",
        "          \n",
        "    print(final_list)\n",
        "  \n",
        "# Driver code\n",
        "list1 = [2, 6, 41, 85, 0, 3, 7, 6, 10]\n",
        "N = 2\n",
        "  \n",
        "# Calling the function\n",
        "Nmaxelements(list1, N)"
      ],
      "execution_count": 11,
      "outputs": [
        {
          "output_type": "stream",
          "text": [
            "[85, 41]\n"
          ],
          "name": "stdout"
        }
      ]
    },
    {
      "cell_type": "code",
      "metadata": {
        "colab": {
          "base_uri": "https://localhost:8080/"
        },
        "id": "PdFQx4HfzItq",
        "outputId": "48f9c00d-49bf-4ea8-b7ce-8b1ded5ba579"
      },
      "source": [
        "# Python3 program to swap first\n",
        "# and last element of a list\n",
        " \n",
        "# Swap function\n",
        "def swapList(newList):\n",
        "    size = len(newList)\n",
        "     \n",
        "    # Swapping\n",
        "    temp = newList[0]\n",
        "    newList[0] = newList[size - 1]\n",
        "    newList[size - 1] = temp\n",
        "     \n",
        "    return newList\n",
        "     \n",
        "# Driver code\n",
        "newList = [12, 35, 9, 56, 24]\n",
        " \n",
        "print(swapList(newList))"
      ],
      "execution_count": 12,
      "outputs": [
        {
          "output_type": "stream",
          "text": [
            "[24, 35, 9, 56, 12]\n"
          ],
          "name": "stdout"
        }
      ]
    },
    {
      "cell_type": "code",
      "metadata": {
        "colab": {
          "base_uri": "https://localhost:8080/"
        },
        "id": "oNabkq3azR6F",
        "outputId": "2e348f05-a784-4be4-8176-96db74e4dfc3"
      },
      "source": [
        "# Python program to print Even Numbers in a List\n",
        "  \n",
        "# list of numbers\n",
        "list1 = [10, 21, 4, 45, 66, 93]\n",
        "  \n",
        "# iterating each number in list\n",
        "for num in list1:\n",
        "      \n",
        "    # checking condition\n",
        "    if num % 2 == 0:\n",
        "       print(num, end = \" \")"
      ],
      "execution_count": 13,
      "outputs": [
        {
          "output_type": "stream",
          "text": [
            "10 4 66 "
          ],
          "name": "stdout"
        }
      ]
    },
    {
      "cell_type": "code",
      "metadata": {
        "colab": {
          "base_uri": "https://localhost:8080/"
        },
        "id": "LQ5Fo_7pzZd5",
        "outputId": "6d525ea5-29af-4303-ef57-4f4f4d0ce901"
      },
      "source": [
        "# Python program to print odd Numbers in a List\n",
        "  \n",
        "# list of numbers\n",
        "list1 = [10, 21, 4, 45, 66, 93]\n",
        "  \n",
        "# iterating each number in list\n",
        "for num in list1:\n",
        "      \n",
        "    # checking condition\n",
        "    if num % 2 != 0:\n",
        "       print(num, end = \" \")"
      ],
      "execution_count": 14,
      "outputs": [
        {
          "output_type": "stream",
          "text": [
            "21 45 93 "
          ],
          "name": "stdout"
        }
      ]
    },
    {
      "cell_type": "code",
      "metadata": {
        "colab": {
          "base_uri": "https://localhost:8080/"
        },
        "id": "0NpebX1dzgDu",
        "outputId": "f3d8f463-fe75-4fe5-edc7-68998e6a76aa"
      },
      "source": [
        "# Python program to print odd Numbers in a List\n",
        "  \n",
        "# list of numbers\n",
        "list1 = [10, 21, 4, 45, 66, 93]\n",
        "  \n",
        "# iterating each number in list\n",
        "for num in list1:\n",
        "      \n",
        "    # checking condition\n",
        "    if num % 2 != 0:\n",
        "       print(num, end = \" \")"
      ],
      "execution_count": 15,
      "outputs": [
        {
          "output_type": "stream",
          "text": [
            "21 45 93 "
          ],
          "name": "stdout"
        }
      ]
    },
    {
      "cell_type": "code",
      "metadata": {
        "colab": {
          "base_uri": "https://localhost:8080/"
        },
        "id": "VGqZLE_CznL6",
        "outputId": "17ee8db1-71aa-412b-8c5e-00aa8dff83e8"
      },
      "source": [
        "# Python program to print odd Numbers in given range\n",
        "  \n",
        "start, end = 4, 19\n",
        "  \n",
        "# iterating each number in list\n",
        "for num in range(start, end + 1):\n",
        "      \n",
        "    # checking condition\n",
        "    if num % 2 != 0:\n",
        "        print(num, end = \" \")"
      ],
      "execution_count": 16,
      "outputs": [
        {
          "output_type": "stream",
          "text": [
            "5 7 9 11 13 15 17 19 "
          ],
          "name": "stdout"
        }
      ]
    },
    {
      "cell_type": "code",
      "metadata": {
        "colab": {
          "base_uri": "https://localhost:8080/"
        },
        "id": "PcWtd8Jszuol",
        "outputId": "1b12c8d4-ce45-4e5f-8e60-c6fea491d360"
      },
      "source": [
        "# Python program to print positive Numbers in a List\n",
        "  \n",
        "# list of numbers\n",
        "list1 = [11, -21, 0, 45, 66, -93]\n",
        "  \n",
        "# iterating each number in list\n",
        "for num in list1:\n",
        "      \n",
        "    # checking condition\n",
        "    if num >= 0:\n",
        "       print(num, end = \" \")"
      ],
      "execution_count": 17,
      "outputs": [
        {
          "output_type": "stream",
          "text": [
            "11 0 45 66 "
          ],
          "name": "stdout"
        }
      ]
    },
    {
      "cell_type": "code",
      "metadata": {
        "colab": {
          "base_uri": "https://localhost:8080/"
        },
        "id": "G0kyyAKjz4Jw",
        "outputId": "e4289d8d-a947-4f07-b085-d2ffdc6da481"
      },
      "source": [
        "# Python program to print negative Numbers in a List\n",
        "  \n",
        "# list of numbers\n",
        "list1 = [11, -21, 0, 45, 66, -93]\n",
        "  \n",
        "# iterating each number in list\n",
        "for num in list1:\n",
        "      \n",
        "    # checking condition\n",
        "    if num < 0:\n",
        "       print(num, end = \" \")"
      ],
      "execution_count": 18,
      "outputs": [
        {
          "output_type": "stream",
          "text": [
            "-21 -93 "
          ],
          "name": "stdout"
        }
      ]
    },
    {
      "cell_type": "code",
      "metadata": {
        "colab": {
          "base_uri": "https://localhost:8080/"
        },
        "id": "7kZnxwhh0Dhm",
        "outputId": "d0b0fb29-dbda-46cb-9074-52057e8d9dbb"
      },
      "source": [
        "# Python program to print positive Numbers in given range\n",
        "  \n",
        "start, end = -4, 19\n",
        "  \n",
        "# iterating each number in list\n",
        "for num in range(start, end + 1):\n",
        "      \n",
        "    # checking condition\n",
        "    if num >= 0:\n",
        "        print(num, end = \" \")"
      ],
      "execution_count": 19,
      "outputs": [
        {
          "output_type": "stream",
          "text": [
            "0 1 2 3 4 5 6 7 8 9 10 11 12 13 14 15 16 17 18 19 "
          ],
          "name": "stdout"
        }
      ]
    },
    {
      "cell_type": "code",
      "metadata": {
        "colab": {
          "base_uri": "https://localhost:8080/"
        },
        "id": "K8GTGtPL0Iuc",
        "outputId": "96004c3c-b052-4760-90b6-57c11b1e74ae"
      },
      "source": [
        "# Python program to print negative Numbers in given range\n",
        "  \n",
        "start, end = -4, 19\n",
        "  \n",
        "# iterating each number in list\n",
        "for num in range(start, end + 1):\n",
        "      \n",
        "    # checking condition\n",
        "    if num < 0:\n",
        "        print(num, end = \" \")"
      ],
      "execution_count": 20,
      "outputs": [
        {
          "output_type": "stream",
          "text": [
            "-4 -3 -2 -1 "
          ],
          "name": "stdout"
        }
      ]
    }
  ]
}