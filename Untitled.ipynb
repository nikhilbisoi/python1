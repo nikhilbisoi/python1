{
  "nbformat": 4,
  "nbformat_minor": 0,
  "metadata": {
    "colab": {
      "name": "Untitled",
      "provenance": []
    },
    "kernelspec": {
      "name": "python3",
      "display_name": "Python 3"
    },
    "language_info": {
      "name": "python"
    }
  },
  "cells": [
    {
      "cell_type": "code",
      "metadata": {
        "colab": {
          "base_uri": "https://localhost:8080/"
        },
        "id": "HeZuPe_H-nRv",
        "outputId": "fa6b6974-87b4-4293-c51f-afb1ddc336e6"
      },
      "source": [
        "# Python3 program to find simple interest\n",
        "# for given principal amount, time and\n",
        "# rate of interest.\n",
        "  \n",
        "  \n",
        "def simple_interest(p,t,r):\n",
        "    print('The principal is', p)\n",
        "    print('The time period is', t)\n",
        "    print('The rate of interest is',r)\n",
        "      \n",
        "    si = (p * t * r)/100\n",
        "      \n",
        "    print('The Simple Interest is', si)\n",
        "    return si\n",
        "      \n",
        "# Driver code\n",
        "simple_interest(8, 6, 8)"
      ],
      "execution_count": 1,
      "outputs": [
        {
          "output_type": "stream",
          "text": [
            "The principal is 8\n",
            "The time period is 6\n",
            "The rate of interest is 8\n",
            "The Simple Interest is 3.84\n"
          ],
          "name": "stdout"
        },
        {
          "output_type": "execute_result",
          "data": {
            "text/plain": [
              "3.84"
            ]
          },
          "metadata": {
            "tags": []
          },
          "execution_count": 1
        }
      ]
    },
    {
      "cell_type": "code",
      "metadata": {
        "colab": {
          "base_uri": "https://localhost:8080/"
        },
        "id": "t9kVBEf5AagR",
        "outputId": "d97fe397-aa8a-4851-9228-bb3b35f5328e"
      },
      "source": [
        "# Python3 program to find compound\n",
        "# interest for given values.\n",
        " \n",
        "def compound_interest(principle, rate, time):\n",
        " \n",
        "    # Calculates compound interest\n",
        "    Amount = principle * (pow((1 + rate / 100), time))\n",
        "    CI = Amount - principle\n",
        "    print(\"Compound interest is\", CI)\n",
        " \n",
        "# Driver Code\n",
        "compound_interest(10000, 10.25, 5)"
      ],
      "execution_count": 2,
      "outputs": [
        {
          "output_type": "stream",
          "text": [
            "Compound interest is 6288.946267774416\n"
          ],
          "name": "stdout"
        }
      ]
    },
    {
      "cell_type": "code",
      "metadata": {
        "colab": {
          "base_uri": "https://localhost:8080/"
        },
        "id": "0zIbeTj2DVyG",
        "outputId": "21d139f7-55ed-44f0-95fb-9fb18041c2d6"
      },
      "source": [
        "# Python program to find Area of a circle\n",
        "  \n",
        "def findArea(r):\n",
        "    PI = 3.142\n",
        "    return PI * (r*r);\n",
        "  \n",
        "# Driver method\n",
        "print(\"Area is %.6f\" % findArea(5));"
      ],
      "execution_count": 10,
      "outputs": [
        {
          "output_type": "stream",
          "text": [
            "Area is 78.550000\n"
          ],
          "name": "stdout"
        }
      ]
    },
    {
      "cell_type": "code",
      "metadata": {
        "colab": {
          "base_uri": "https://localhost:8080/"
        },
        "id": "28_0J1TWD67S",
        "outputId": "2c21dcf6-b5fa-4777-ef2f-69cf03ec4eec"
      },
      "source": [
        "# Python program to print all \n",
        "# prime number in an interval\n",
        "# number should be greater than 1\n",
        "start = 11\n",
        "end = 25\n",
        "  \n",
        "for i in range(start, end+1):\n",
        "  if i>1:\n",
        "    for j in range(2,i):\n",
        "        if(i % j==0):\n",
        "            break\n",
        "    else:\n",
        "        print(i)"
      ],
      "execution_count": 11,
      "outputs": [
        {
          "output_type": "stream",
          "text": [
            "11\n",
            "13\n",
            "17\n",
            "19\n",
            "23\n"
          ],
          "name": "stdout"
        }
      ]
    },
    {
      "cell_type": "code",
      "metadata": {
        "colab": {
          "base_uri": "https://localhost:8080/"
        },
        "id": "NcRC7KswEbDA",
        "outputId": "2f5f3641-5b9d-4c38-af59-33b2f4a21492"
      },
      "source": [
        "# Python program to check if\n",
        "# given number is prime or not\n",
        "  \n",
        "num = 11\n",
        "  \n",
        "# If given number is greater than 1\n",
        "if num > 1:\n",
        "  \n",
        "    # Iterate from 2 to n / 2\n",
        "    for i in range(2, int(num/2)+1):\n",
        "  \n",
        "        # If num is divisible by any number between\n",
        "        # 2 and n / 2, it is not prime\n",
        "        if (num % i) == 0:\n",
        "            print(num, \"is not a prime number\")\n",
        "            break\n",
        "    else:\n",
        "        print(num, \"is a prime number\")\n",
        "  \n",
        "else:\n",
        "    print(num, \"is not a prime number\")"
      ],
      "execution_count": 12,
      "outputs": [
        {
          "output_type": "stream",
          "text": [
            "11 is a prime number\n"
          ],
          "name": "stdout"
        }
      ]
    },
    {
      "cell_type": "code",
      "metadata": {
        "colab": {
          "base_uri": "https://localhost:8080/"
        },
        "id": "9dgpbpM0FzB1",
        "outputId": "8e9c4870-0f90-48f3-99db-f7a162aef0c3"
      },
      "source": [
        "# Function for nth fibonacci number - Dynamic Programming\n",
        "# Taking 1st two fibonacci numbers as 0 and 1\n",
        " \n",
        "FibArray = [0, 1]\n",
        " \n",
        "def fibonacci(n):\n",
        "    if n<0:\n",
        "        print(\"Incorrect input\")\n",
        "    elif n<= len(FibArray):\n",
        "        return FibArray[n-1]\n",
        "    else:\n",
        "        temp_fib = fibonacci(n-1)+fibonacci(n-2)\n",
        "        FibArray.append(temp_fib)\n",
        "        return temp_fib\n",
        " \n",
        "# Driver Program\n",
        " \n",
        "print(fibonacci(9))\n",
        " "
      ],
      "execution_count": 13,
      "outputs": [
        {
          "output_type": "stream",
          "text": [
            "21\n"
          ],
          "name": "stdout"
        }
      ]
    }
  ]
}