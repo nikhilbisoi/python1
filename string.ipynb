{
  "nbformat": 4,
  "nbformat_minor": 0,
  "metadata": {
    "colab": {
      "name": "string",
      "provenance": [],
      "authorship_tag": "ABX9TyO6uYS1VTKW03qDthYSdFYO",
      "include_colab_link": true
    },
    "kernelspec": {
      "name": "python3",
      "display_name": "Python 3"
    },
    "language_info": {
      "name": "python"
    }
  },
  "cells": [
    {
      "cell_type": "markdown",
      "metadata": {
        "id": "view-in-github",
        "colab_type": "text"
      },
      "source": [
        "<a href=\"https://colab.research.google.com/github/nikhilbisoi/python1/blob/main/string.ipynb\" target=\"_parent\"><img src=\"https://colab.research.google.com/assets/colab-badge.svg\" alt=\"Open In Colab\"/></a>"
      ]
    },
    {
      "cell_type": "code",
      "metadata": {
        "colab": {
          "base_uri": "https://localhost:8080/"
        },
        "id": "-653DwYM6Pft",
        "outputId": "3fc704f3-8b16-468a-8b33-8f4d12a739e1"
      },
      "source": [
        "# function which return reverse of a string\n",
        " \n",
        "def isPalindrome(s):\n",
        "    return s == s[::-1]\n",
        " \n",
        " \n",
        "# Driver code\n",
        "s = \"malayalam\"\n",
        "ans = isPalindrome(s)\n",
        " \n",
        "if ans:\n",
        "    print(\"Yes\")\n",
        "else:\n",
        "    print(\"No\")"
      ],
      "execution_count": 2,
      "outputs": [
        {
          "output_type": "stream",
          "name": "stdout",
          "text": [
            "Yes\n"
          ]
        }
      ]
    },
    {
      "cell_type": "code",
      "metadata": {
        "colab": {
          "base_uri": "https://localhost:8080/"
        },
        "id": "mjCotiNK6x8G",
        "outputId": "03031e42-0881-413a-93cb-03aaf8db84ff"
      },
      "source": [
        "# Python program to demonstrate\n",
        "# symmetry and palindrome of the\n",
        "# string\n",
        " \n",
        " \n",
        "# Function to check whether the\n",
        "# string is palindrome or not\n",
        "def palindrome(a):\n",
        "  \n",
        "    # finding the mid, start\n",
        "    # and last index of the string\n",
        "    mid = (len(a)-1)//2\n",
        "    start = 0\n",
        "    last = len(a)-1\n",
        "    flag = 0\n",
        " \n",
        "    # A loop till the mid of the\n",
        "    # string\n",
        "    while(start<mid):\n",
        "  \n",
        "        # comparing letters from right\n",
        "        # from the letters from left\n",
        "        if (a[start]== a[last]):\n",
        "             \n",
        "            start += 1\n",
        "            last -= 1\n",
        "             \n",
        "        else:\n",
        "            flag = 1\n",
        "            break;\n",
        "             \n",
        "    # Checking the flag variable to\n",
        "    # check if the string is palindrome\n",
        "    # or not\n",
        "    if flag == 0:\n",
        "        print(\"The entered string is palindrome\")\n",
        "    else:\n",
        "        print(\"The entered string is not palindrome\")\n",
        "         \n",
        "# Function to check whether the\n",
        "# string is symmetrical or not       \n",
        "def symmetry(a):\n",
        "     \n",
        "    n = len(a)\n",
        "    flag = 0\n",
        "     \n",
        "    # Check if the string's length\n",
        "    # is odd or even\n",
        "    if n%2:\n",
        "        mid = n//2 +1\n",
        "    else:\n",
        "        mid = n//2\n",
        "         \n",
        "    start1 = 0\n",
        "    start2 = mid\n",
        "     \n",
        "    while(start1 < mid and start2 < n):\n",
        "         \n",
        "        if (a[start1]== a[start2]):\n",
        "            start1 = start1 + 1\n",
        "            start2 = start2 + 1\n",
        "        else:\n",
        "            flag = 1\n",
        "            break\n",
        "      \n",
        "    # Checking the flag variable to\n",
        "    # check if the string is symmetrical\n",
        "    # or not\n",
        "    if flag == 0:\n",
        "        print(\"The entered string is symmetrical\")\n",
        "    else:\n",
        "        print(\"The entered string is not symmetrical\")\n",
        "         \n",
        "# Driver code\n",
        "string = 'amaama'\n",
        "palindrome(string)\n",
        "symmetry(string)"
      ],
      "execution_count": 3,
      "outputs": [
        {
          "output_type": "stream",
          "name": "stdout",
          "text": [
            "The entered string is palindrome\n",
            "The entered string is symmetrical\n"
          ]
        }
      ]
    },
    {
      "cell_type": "code",
      "metadata": {
        "colab": {
          "base_uri": "https://localhost:8080/"
        },
        "id": "yAcwcSHq662R",
        "outputId": "fa4e835d-70ae-4c21-df5d-8f6afabcafd3"
      },
      "source": [
        "# Function to reverse words of string \n",
        "  \n",
        "def rev_sentence(sentence): \n",
        "  \n",
        "    # first split the string into words \n",
        "    words = sentence.split(' ') \n",
        "  \n",
        "    # then reverse the split string list and join using space \n",
        "    reverse_sentence = ' '.join(reversed(words)) \n",
        "  \n",
        "    # finally return the joined string \n",
        "    return reverse_sentence \n",
        "  \n",
        "if __name__ == \"__main__\": \n",
        "    input = 'geeks quiz practice code'\n",
        "    print (rev_sentence(input))"
      ],
      "execution_count": 4,
      "outputs": [
        {
          "output_type": "stream",
          "name": "stdout",
          "text": [
            "code practice quiz geeks\n"
          ]
        }
      ]
    }
  ]
}